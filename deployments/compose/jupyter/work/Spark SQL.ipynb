{
 "cells": [
  {
   "cell_type": "markdown",
   "id": "78797e22",
   "metadata": {},
   "source": [
    "# lakeFS and Delta\n",
    "\n",
    "This uses the [Everything Bagel](https://github.com/treeverse/lakeFS/tree/master/deployments/compose) Docker Compose environment.\n",
    "\n",
    "[@rmoff](https://twitter.com/rmoff/) "
   ]
  },
  {
   "cell_type": "markdown",
   "id": "3a642edb",
   "metadata": {},
   "source": [
    "## Setup"
   ]
  },
  {
   "cell_type": "code",
   "execution_count": 1,
   "id": "45ba6754",
   "metadata": {},
   "outputs": [
    {
     "name": "stdout",
     "output_type": "stream",
     "text": [
      "Kernel: /opt/conda/bin/python\n",
      "Python version: 3.9.7 | packaged by conda-forge | (default, Oct 10 2021, 15:08:54) \n",
      "[GCC 9.4.0]\n",
      "PySpark version: 3.2.0\n"
     ]
    }
   ],
   "source": [
    "import sys\n",
    "print(\"Kernel:\", sys.executable)\n",
    "print(\"Python version:\", sys.version)\n",
    "\n",
    "import pyspark\n",
    "print(\"PySpark version:\", pyspark.__version__)\n"
   ]
  },
  {
   "cell_type": "markdown",
   "id": "c1e3db35",
   "metadata": {},
   "source": [
    "###  Spark\n",
    "\n",
    "_With the necessary Delta Lake config too_"
   ]
  },
  {
   "cell_type": "code",
   "execution_count": 2,
   "id": "6d3747db",
   "metadata": {
    "scrolled": false
   },
   "outputs": [],
   "source": [
    "from pyspark import SparkFiles\n",
    "from pyspark.sql.session import SparkSession\n",
    "\n",
    "spark = (\n",
    "    SparkSession.builder.master(\"local[*]\")\n",
    "    .config(\"spark.jars.packages\", \"io.delta:delta-core_2.12:2.0.0\")\n",
    "    .config(\"spark.sql.extensions\", \"io.delta.sql.DeltaSparkSessionExtension\")\n",
    "    .config(\"spark.sql.catalog.spark_catalog\", \"org.apache.spark.sql.delta.catalog.DeltaCatalog\")\n",
    "    .config(\"spark.delta.logStore.class\", \"org.apache.spark.sql.delta.storage.S3SingleDriverLogStore\")\n",
    "    .config(\"spark.hadoop.fs.s3.impl\", \"org.apache.hadoop.fs.s3a.S3AFileSystem\")\n",
    "    .config(\"spark.hadoop.fs.s3a.endpoint\", \"http://lakefs:8000\")\n",
    "    .config(\"spark.hadoop.fs.s3a.path.style.access\", \"true\")\n",
    "    .config(\"spark.hadoop.fs.s3a.access.key\", \"AKIA-EXAMPLE-KEY\")\n",
    "    .config(\"spark.hadoop.fs.s3a.secret.key\", \"EXAMPLE-SECRET\")    \n",
    "    .getOrCreate()\n",
    ")"
   ]
  },
  {
   "cell_type": "markdown",
   "id": "644a7daa",
   "metadata": {},
   "source": [
    "#### Test delta - write/read local"
   ]
  },
  {
   "cell_type": "code",
   "execution_count": 3,
   "id": "e70664be",
   "metadata": {},
   "outputs": [],
   "source": [
    "data = spark.range(0, 5)\n",
    "data.write.format(\"delta\").mode(\"overwrite\").save(\"/tmp/delta-table\")"
   ]
  },
  {
   "cell_type": "code",
   "execution_count": 4,
   "id": "b53a65c0",
   "metadata": {},
   "outputs": [
    {
     "name": "stdout",
     "output_type": "stream",
     "text": [
      "+---+\n",
      "| id|\n",
      "+---+\n",
      "|  1|\n",
      "|  4|\n",
      "|  2|\n",
      "|  3|\n",
      "|  0|\n",
      "+---+\n",
      "\n"
     ]
    }
   ],
   "source": [
    "df = spark.read.format(\"delta\").load(\"/tmp/delta-table\")\n",
    "df.show()"
   ]
  },
  {
   "cell_type": "markdown",
   "id": "ffd24df2",
   "metadata": {},
   "source": [
    "#### Test delta - write/read lakeFS"
   ]
  },
  {
   "cell_type": "code",
   "execution_count": 5,
   "id": "a1d64961",
   "metadata": {},
   "outputs": [],
   "source": [
    "data = spark.range(0, 5)\n",
    "df.write.format(\"delta\").mode('overwrite').save('s3a://example/main/test')"
   ]
  },
  {
   "cell_type": "code",
   "execution_count": 6,
   "id": "b5b4b61e",
   "metadata": {},
   "outputs": [
    {
     "name": "stdout",
     "output_type": "stream",
     "text": [
      "+---+\n",
      "| id|\n",
      "+---+\n",
      "|  2|\n",
      "|  0|\n",
      "|  3|\n",
      "|  1|\n",
      "|  4|\n",
      "+---+\n",
      "\n"
     ]
    }
   ],
   "source": [
    "df = spark.read.format(\"delta\").load('s3a://example/main/test')\n",
    "df.show()"
   ]
  },
  {
   "cell_type": "markdown",
   "id": "49e5fee4",
   "metadata": {},
   "source": [
    "## Try some SQL"
   ]
  },
  {
   "cell_type": "code",
   "execution_count": null,
   "id": "2a915331",
   "metadata": {},
   "outputs": [],
   "source": [
    "!{sys.executable} -m pip install sparksql-magic"
   ]
  },
  {
   "cell_type": "code",
   "execution_count": null,
   "id": "94dd9ce0",
   "metadata": {},
   "outputs": [],
   "source": [
    "%load_ext sparksql_magic"
   ]
  },
  {
   "cell_type": "code",
   "execution_count": null,
   "id": "663fb2b6",
   "metadata": {},
   "outputs": [],
   "source": [
    "users = spark.read.format(\"delta\").load('s3a://example/main/demo/users')\n",
    "users.createOrReplaceTempView(\"users\")"
   ]
  },
  {
   "cell_type": "code",
   "execution_count": null,
   "id": "f4e3fb27",
   "metadata": {},
   "outputs": [],
   "source": [
    "%%sparksql\n",
    "select * from users;"
   ]
  },
  {
   "cell_type": "code",
   "execution_count": null,
   "id": "e9c66504",
   "metadata": {},
   "outputs": [],
   "source": [
    "%%sparksql\n",
    "select COUNT(*) from users;"
   ]
  },
  {
   "cell_type": "code",
   "execution_count": null,
   "id": "613076b0",
   "metadata": {},
   "outputs": [],
   "source": [
    "%%sparksql\n",
    "DELETE FROM users WHERE FIRST_NAME LIKE 'A%';"
   ]
  },
  {
   "cell_type": "code",
   "execution_count": null,
   "id": "91842988",
   "metadata": {},
   "outputs": [],
   "source": [
    "%%sparksql\n",
    "select COUNT(*) from users;"
   ]
  },
  {
   "cell_type": "code",
   "execution_count": null,
   "id": "545b30d8",
   "metadata": {},
   "outputs": [],
   "source": [
    "spark.sql(\"SELECT * FROM users\").write.format(\"delta\").mode('overwrite').save('s3a://example/remove_pii/demo/users')"
   ]
  },
  {
   "cell_type": "code",
   "execution_count": null,
   "id": "e67df40d",
   "metadata": {},
   "outputs": [],
   "source": []
  }
 ],
 "metadata": {
  "kernelspec": {
   "display_name": "Python 3 (ipykernel)",
   "language": "python",
   "name": "python3"
  },
  "language_info": {
   "codemirror_mode": {
    "name": "ipython",
    "version": 3
   },
   "file_extension": ".py",
   "mimetype": "text/x-python",
   "name": "python",
   "nbconvert_exporter": "python",
   "pygments_lexer": "ipython3",
   "version": "3.9.7"
  }
 },
 "nbformat": 4,
 "nbformat_minor": 5
}
