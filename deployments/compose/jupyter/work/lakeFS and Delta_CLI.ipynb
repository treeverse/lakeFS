{
 "cells": [
  {
   "cell_type": "markdown",
   "id": "78797e22",
   "metadata": {},
   "source": [
    "# Exploring LakeFS with PySpark\n",
    "\n",
    "This uses the [Everything Bagel](https://github.com/treeverse/lakeFS/tree/master/deployments/compose) Docker Compose environment.\n",
    "\n",
    "[@rmoff](https://twitter.com/rmoff/) "
   ]
  },
  {
   "cell_type": "markdown",
   "id": "3a642edb",
   "metadata": {},
   "source": [
    "## Setup"
   ]
  },
  {
   "cell_type": "code",
   "execution_count": 1,
   "id": "45ba6754",
   "metadata": {},
   "outputs": [
    {
     "name": "stdout",
     "output_type": "stream",
     "text": [
      "Kernel: /opt/conda/bin/python\n",
      "Python version: 3.9.7 | packaged by conda-forge | (default, Oct 10 2021, 15:08:54) \n",
      "[GCC 9.4.0]\n",
      "PySpark version: 3.2.0\n"
     ]
    }
   ],
   "source": [
    "import sys\n",
    "print(\"Kernel:\", sys.executable)\n",
    "print(\"Python version:\", sys.version)\n",
    "\n",
    "import pyspark\n",
    "print(\"PySpark version:\", pyspark.__version__)\n"
   ]
  },
  {
   "cell_type": "markdown",
   "id": "c1e3db35",
   "metadata": {},
   "source": [
    "###  Spark\n",
    "\n",
    "_With the necessary Delta Lake config too_"
   ]
  },
  {
   "cell_type": "code",
   "execution_count": 2,
   "id": "6d3747db",
   "metadata": {
    "scrolled": false
   },
   "outputs": [],
   "source": [
    "from pyspark import SparkFiles\n",
    "from pyspark.sql.session import SparkSession\n",
    "\n",
    "spark = (\n",
    "    SparkSession.builder.master(\"local[*]\")\n",
    "    .config(\"spark.jars.packages\", \"io.delta:delta-core_2.12:2.0.0\")\n",
    "    .config(\"spark.sql.extensions\", \"io.delta.sql.DeltaSparkSessionExtension\")\n",
    "    .config(\"spark.sql.catalog.spark_catalog\", \"org.apache.spark.sql.delta.catalog.DeltaCatalog\")\n",
    "    .config(\"spark.delta.logStore.class\", \"org.apache.spark.sql.delta.storage.S3SingleDriverLogStore\")\n",
    "    .config(\"spark.hadoop.fs.s3.impl\", \"org.apache.hadoop.fs.s3a.S3AFileSystem\")\n",
    "    .config(\"spark.hadoop.fs.s3a.endpoint\", \"http://lakefs:8000\")\n",
    "    .config(\"spark.hadoop.fs.s3a.path.style.access\", \"true\")\n",
    "    .config(\"spark.hadoop.fs.s3a.access.key\", \"AKIA-EXAMPLE-KEY\")\n",
    "    .config(\"spark.hadoop.fs.s3a.secret.key\", \"EXAMPLE-SECRET\")    \n",
    "    .getOrCreate()\n",
    ")"
   ]
  },
  {
   "cell_type": "code",
   "execution_count": 7,
   "id": "25208767",
   "metadata": {},
   "outputs": [
    {
     "data": {
      "text/html": [
       "\n",
       "        <div>\n",
       "            <p><b>SparkContext</b></p>\n",
       "\n",
       "            <p><a href=\"http://358d949974bd:4040\">Spark UI</a></p>\n",
       "\n",
       "            <dl>\n",
       "              <dt>Version</dt>\n",
       "                <dd><code>v3.2.0</code></dd>\n",
       "              <dt>Master</dt>\n",
       "                <dd><code>local[*]</code></dd>\n",
       "              <dt>AppName</dt>\n",
       "                <dd><code>pyspark-shell</code></dd>\n",
       "            </dl>\n",
       "        </div>\n",
       "        "
      ],
      "text/plain": [
       "<SparkContext master=local[*] appName=pyspark-shell>"
      ]
     },
     "execution_count": 7,
     "metadata": {},
     "output_type": "execute_result"
    }
   ],
   "source": [
    "spark.sparkContext"
   ]
  },
  {
   "cell_type": "markdown",
   "id": "644a7daa",
   "metadata": {},
   "source": [
    "#### Test delta - write/read local"
   ]
  },
  {
   "cell_type": "code",
   "execution_count": 8,
   "id": "e70664be",
   "metadata": {},
   "outputs": [],
   "source": [
    "data = spark.range(0, 5)\n",
    "data.write.format(\"delta\").mode(\"overwrite\").save(\"/tmp/delta-table\")"
   ]
  },
  {
   "cell_type": "code",
   "execution_count": 9,
   "id": "b53a65c0",
   "metadata": {},
   "outputs": [
    {
     "name": "stdout",
     "output_type": "stream",
     "text": [
      "+---+\n",
      "| id|\n",
      "+---+\n",
      "|  1|\n",
      "|  0|\n",
      "|  2|\n",
      "|  3|\n",
      "|  4|\n",
      "+---+\n",
      "\n"
     ]
    }
   ],
   "source": [
    "df = spark.read.format(\"delta\").load(\"/tmp/delta-table\")\n",
    "df.show()"
   ]
  },
  {
   "cell_type": "markdown",
   "id": "ffd24df2",
   "metadata": {},
   "source": [
    "#### Test delta - write/read lakeFS"
   ]
  },
  {
   "cell_type": "code",
   "execution_count": 10,
   "id": "a1d64961",
   "metadata": {},
   "outputs": [],
   "source": [
    "data = spark.range(0, 5)\n",
    "df.write.format(\"delta\").mode('overwrite').save('s3a://example/main/test')"
   ]
  },
  {
   "cell_type": "code",
   "execution_count": 11,
   "id": "b5b4b61e",
   "metadata": {},
   "outputs": [
    {
     "name": "stdout",
     "output_type": "stream",
     "text": [
      "+---+\n",
      "| id|\n",
      "+---+\n",
      "|  0|\n",
      "|  3|\n",
      "|  2|\n",
      "|  4|\n",
      "|  1|\n",
      "+---+\n",
      "\n"
     ]
    }
   ],
   "source": [
    "df = spark.read.format(\"delta\").load('s3a://example/main/test')\n",
    "df.show()"
   ]
  },
  {
   "cell_type": "markdown",
   "id": "f824b929",
   "metadata": {},
   "source": [
    "### LakeFS"
   ]
  },
  {
   "cell_type": "markdown",
   "id": "8dd7c6c0",
   "metadata": {},
   "source": [
    "### Install libraries\n",
    "\n",
    "(could be built into the `Dockerfile`)"
   ]
  },
  {
   "cell_type": "code",
   "execution_count": 12,
   "id": "642e73fe",
   "metadata": {},
   "outputs": [
    {
     "name": "stdout",
     "output_type": "stream",
     "text": [
      "Requirement already satisfied: lakefs_client in /opt/conda/lib/python3.9/site-packages (0.98.0)\n",
      "Requirement already satisfied: urllib3>=1.25.3 in /opt/conda/lib/python3.9/site-packages (from lakefs_client) (1.26.8)\n",
      "Requirement already satisfied: python-dateutil in /opt/conda/lib/python3.9/site-packages (from lakefs_client) (2.8.2)\n",
      "Requirement already satisfied: six>=1.5 in /opt/conda/lib/python3.9/site-packages (from python-dateutil->lakefs_client) (1.16.0)\n"
     ]
    }
   ],
   "source": [
    "import sys\n",
    "!{sys.executable} -m pip install lakefs_client"
   ]
  },
  {
   "cell_type": "code",
   "execution_count": 13,
   "id": "b2e44584",
   "metadata": {},
   "outputs": [],
   "source": [
    "import lakefs_client\n",
    "from lakefs_client import models\n",
    "from lakefs_client.client import LakeFSClient\n",
    "from lakefs_client.api import branches_api\n",
    "from lakefs_client.api import commits_api\n",
    "\n",
    "# lakeFS credentials and endpoint\n",
    "configuration = lakefs_client.Configuration()\n",
    "configuration.username = 'AKIA-EXAMPLE-KEY'\n",
    "configuration.password = 'EXAMPLE-SECRET'\n",
    "configuration.host = 'http://lakefs:8000'\n",
    "\n",
    "client = LakeFSClient(configuration)\n",
    "api_client = lakefs_client.ApiClient(configuration)"
   ]
  },
  {
   "cell_type": "markdown",
   "id": "0047139f",
   "metadata": {},
   "source": [
    "#### List the current branches in the repository\n",
    "\n",
    "https://pydocs.lakefs.io/docs/BranchesApi.html#list_branches"
   ]
  },
  {
   "cell_type": "code",
   "execution_count": 14,
   "id": "9651e04e",
   "metadata": {},
   "outputs": [],
   "source": [
    "repo='example'"
   ]
  },
  {
   "cell_type": "code",
   "execution_count": 15,
   "id": "bdaa7756",
   "metadata": {},
   "outputs": [
    {
     "data": {
      "text/plain": [
       "'main'"
      ]
     },
     "metadata": {},
     "output_type": "display_data"
    }
   ],
   "source": [
    "for b in client.branches.list_branches(repo).results:\n",
    "    display(b.id)"
   ]
  },
  {
   "cell_type": "markdown",
   "id": "0a45118a",
   "metadata": {},
   "source": [
    "## Load some data into lakeFS"
   ]
  },
  {
   "cell_type": "markdown",
   "id": "ff22dfb5",
   "metadata": {},
   "source": [
    "Read a parquet file from URL"
   ]
  },
  {
   "cell_type": "code",
   "execution_count": 16,
   "id": "8a87c7ef",
   "metadata": {},
   "outputs": [],
   "source": [
    "# The sample parquet file is Apache 2.0 licensed so perhaps include it in the Everything Bagel distribution? \n",
    "url='https://github.com/Teradata/kylo/blob/master/samples/sample-data/parquet/userdata1.parquet?raw=true'\n",
    "spark.sparkContext.addFile(url)\n",
    "df = spark.read.parquet(\"file://\" + SparkFiles.get(\"userdata1.parquet\"))"
   ]
  },
  {
   "cell_type": "markdown",
   "id": "7c22768b",
   "metadata": {},
   "source": [
    "How many rows of data?"
   ]
  },
  {
   "cell_type": "code",
   "execution_count": 17,
   "id": "6ec747fe",
   "metadata": {},
   "outputs": [
    {
     "data": {
      "text/plain": [
       "1000"
      ]
     },
     "metadata": {},
     "output_type": "display_data"
    }
   ],
   "source": [
    "display(df.count())"
   ]
  },
  {
   "cell_type": "markdown",
   "id": "08f17847",
   "metadata": {},
   "source": [
    "What does the data look like?"
   ]
  },
  {
   "cell_type": "code",
   "execution_count": 18,
   "id": "b6268496",
   "metadata": {},
   "outputs": [
    {
     "name": "stdout",
     "output_type": "stream",
     "text": [
      "-RECORD 0--------------------------------\n",
      " registration_dttm | 2016-02-03 07:55:29 \n",
      " id                | 1                   \n",
      " first_name        | Amanda              \n",
      " last_name         | Jordan              \n",
      " email             | ajordan0@com.com    \n",
      " gender            | Female              \n",
      " ip_address        | 1.197.201.2         \n",
      " cc                | 6759521864920116    \n",
      " country           | Indonesia           \n",
      " birthdate         | 3/8/1971            \n",
      " salary            | 49756.53            \n",
      " title             | Internal Auditor    \n",
      " comments          | 1E+02               \n",
      "only showing top 1 row\n",
      "\n"
     ]
    },
    {
     "data": {
      "text/plain": [
       "None"
      ]
     },
     "metadata": {},
     "output_type": "display_data"
    }
   ],
   "source": [
    "display(df.show(n=1,vertical=True))"
   ]
  },
  {
   "cell_type": "markdown",
   "id": "b41dab2b",
   "metadata": {},
   "source": [
    "## Write data to lakeFS (on the `main` branch) in Delta format\n",
    "\n",
    "N.B. the connection to s3a is configured in the Docker Compose's `./etc/hive-site.xml` file. "
   ]
  },
  {
   "cell_type": "code",
   "execution_count": 19,
   "id": "40be34f5",
   "metadata": {},
   "outputs": [],
   "source": [
    "branch='main'"
   ]
  },
  {
   "cell_type": "code",
   "execution_count": 20,
   "id": "68718621",
   "metadata": {},
   "outputs": [],
   "source": [
    "df.write.format(\"delta\").mode('overwrite').save('s3a://'+repo+'/'+branch+'/demo/users')"
   ]
  },
  {
   "cell_type": "markdown",
   "id": "6963a378",
   "metadata": {},
   "source": [
    "### The data as seen from LakeFS\n",
    "\n",
    "https://pydocs.lakefs.io/docs/ObjectsApi.html#list_objects\n",
    "\n",
    "Note the `physical_address` and its match in the S3 output in the next step"
   ]
  },
  {
   "cell_type": "code",
   "execution_count": 21,
   "id": "15e64655",
   "metadata": {},
   "outputs": [
    {
     "data": {
      "text/plain": [
       "[{'checksum': 'd41d8cd98f00b204e9800998ecf8427e',\n",
       "  'content_type': 'application/octet-stream',\n",
       "  'mtime': 1680719713,\n",
       "  'path': 'demo/users/_delta_log/',\n",
       "  'path_type': 'object',\n",
       "  'physical_address': 's3://example/data/gogk7p8mgess7772ikfg/cgmruo8mgess7772ikjg',\n",
       "  'size_bytes': 0},\n",
       " {'checksum': '3c713de5eb6183f5bef087822015ac6a',\n",
       "  'content_type': 'application/octet-stream',\n",
       "  'mtime': 1680719713,\n",
       "  'path': 'demo/users/_delta_log/00000000000000000000.json',\n",
       "  'path_type': 'object',\n",
       "  'physical_address': 's3://example/data/gogk7p8mgess7772ikfg/cgmruo8mgess7772ikkg',\n",
       "  'size_bytes': 2752},\n",
       " {'checksum': '6d85e83f3f67c0ca3230f39626186742',\n",
       "  'content_type': 'application/octet-stream',\n",
       "  'mtime': 1680719713,\n",
       "  'path': 'demo/users/part-00000-c9a0a559-f002-476a-bea1-a1f5d7ad8a5d-c000.snappy.parquet',\n",
       "  'path_type': 'object',\n",
       "  'physical_address': 's3://example/data/gogk7p8mgess7772ikfg/cgmruo8mgess7772ikk0',\n",
       "  'size_bytes': 78869},\n",
       " {'checksum': 'd41d8cd98f00b204e9800998ecf8427e',\n",
       "  'content_type': 'application/octet-stream',\n",
       "  'mtime': 1680719643,\n",
       "  'path': 'test/_delta_log/',\n",
       "  'path_type': 'object',\n",
       "  'physical_address': 's3://example/data/gogk7p8mgess7772ikfg/cgmru6omgess7772ikg0',\n",
       "  'size_bytes': 0},\n",
       " {'checksum': '7639dbd89efddfff51201e7b12005568',\n",
       "  'content_type': 'application/octet-stream',\n",
       "  'mtime': 1680719644,\n",
       "  'path': 'test/_delta_log/00000000000000000000.json',\n",
       "  'path_type': 'object',\n",
       "  'physical_address': 's3://example/data/gogk7p8mgess7772ikfg/cgmru70mgess7772ikj0',\n",
       "  'size_bytes': 2079},\n",
       " {'checksum': 'eae3689aa16b12e1862bdf8ea97bc15b',\n",
       "  'content_type': 'application/octet-stream',\n",
       "  'mtime': 1680719644,\n",
       "  'path': 'test/part-00000-2787b2f8-7a14-458e-92b3-f99aeb4da03f-c000.snappy.parquet',\n",
       "  'path_type': 'object',\n",
       "  'physical_address': 's3://example/data/gogk7p8mgess7772ikfg/cgmru70mgess7772ikgg',\n",
       "  'size_bytes': 478},\n",
       " {'checksum': '9117cab8c3faf38aa8dbdc27b75ba543',\n",
       "  'content_type': 'application/octet-stream',\n",
       "  'mtime': 1680719644,\n",
       "  'path': 'test/part-00001-ab43d66e-e6cb-4399-af55-6413b5272676-c000.snappy.parquet',\n",
       "  'path_type': 'object',\n",
       "  'physical_address': 's3://example/data/gogk7p8mgess7772ikfg/cgmru70mgess7772ikhg',\n",
       "  'size_bytes': 478},\n",
       " {'checksum': '80a73f700b7d42c3a1ba01b145a2a2c3',\n",
       "  'content_type': 'application/octet-stream',\n",
       "  'mtime': 1680719644,\n",
       "  'path': 'test/part-00002-0a8400d2-a0eb-42be-b44c-2e9fbb8c09bf-c000.snappy.parquet',\n",
       "  'path_type': 'object',\n",
       "  'physical_address': 's3://example/data/gogk7p8mgess7772ikfg/cgmru70mgess7772ikig',\n",
       "  'size_bytes': 478},\n",
       " {'checksum': '70143429e96911f6edb781a33a4ec273',\n",
       "  'content_type': 'application/octet-stream',\n",
       "  'mtime': 1680719644,\n",
       "  'path': 'test/part-00003-582412fe-4acb-49d0-a3c4-2c72245dc244-c000.snappy.parquet',\n",
       "  'path_type': 'object',\n",
       "  'physical_address': 's3://example/data/gogk7p8mgess7772ikfg/cgmru70mgess7772iki0',\n",
       "  'size_bytes': 478},\n",
       " {'checksum': '7faaa244478ff3618ba144cbdfae8e12',\n",
       "  'content_type': 'application/octet-stream',\n",
       "  'mtime': 1680719644,\n",
       "  'path': 'test/part-00004-3b29ee00-db21-4d96-8e6f-e07385bd0645-c000.snappy.parquet',\n",
       "  'path_type': 'object',\n",
       "  'physical_address': 's3://example/data/gogk7p8mgess7772ikfg/cgmru70mgess7772ikh0',\n",
       "  'size_bytes': 478}]"
      ]
     },
     "execution_count": 21,
     "metadata": {},
     "output_type": "execute_result"
    }
   ],
   "source": [
    "client.objects.list_objects(repo,branch).results"
   ]
  },
  {
   "cell_type": "markdown",
   "id": "1dc64687",
   "metadata": {},
   "source": [
    "### List diff of branch in LakeFS (this is kinda like a `git status`)\n",
    "\n",
    "https://pydocs.lakefs.io/docs/BranchesApi.html#diff_branch\n",
    "\n",
    "_Note that the files show **`'type': 'added'`**_"
   ]
  },
  {
   "cell_type": "code",
   "execution_count": 23,
   "id": "a273e345",
   "metadata": {},
   "outputs": [
    {
     "data": {
      "text/plain": [
       "{'path': 'demo/users/_delta_log/',\n",
       " 'path_type': 'object',\n",
       " 'size_bytes': 478,\n",
       " 'type': 'added'}"
      ]
     },
     "metadata": {},
     "output_type": "display_data"
    },
    {
     "data": {
      "text/plain": [
       "{'path': 'demo/users/_delta_log/00000000000000000000.json',\n",
       " 'path_type': 'object',\n",
       " 'size_bytes': 478,\n",
       " 'type': 'added'}"
      ]
     },
     "metadata": {},
     "output_type": "display_data"
    },
    {
     "data": {
      "text/plain": [
       "{'path': 'demo/users/part-00000-c9a0a559-f002-476a-bea1-a1f5d7ad8a5d-c000.snappy.parquet',\n",
       " 'path_type': 'object',\n",
       " 'size_bytes': 478,\n",
       " 'type': 'added'}"
      ]
     },
     "metadata": {},
     "output_type": "display_data"
    },
    {
     "data": {
      "text/plain": [
       "{'path': 'test/_delta_log/',\n",
       " 'path_type': 'object',\n",
       " 'size_bytes': 478,\n",
       " 'type': 'added'}"
      ]
     },
     "metadata": {},
     "output_type": "display_data"
    },
    {
     "data": {
      "text/plain": [
       "{'path': 'test/_delta_log/00000000000000000000.json',\n",
       " 'path_type': 'object',\n",
       " 'size_bytes': 478,\n",
       " 'type': 'added'}"
      ]
     },
     "metadata": {},
     "output_type": "display_data"
    },
    {
     "data": {
      "text/plain": [
       "{'path': 'test/part-00000-2787b2f8-7a14-458e-92b3-f99aeb4da03f-c000.snappy.parquet',\n",
       " 'path_type': 'object',\n",
       " 'size_bytes': 478,\n",
       " 'type': 'added'}"
      ]
     },
     "metadata": {},
     "output_type": "display_data"
    },
    {
     "data": {
      "text/plain": [
       "{'path': 'test/part-00001-ab43d66e-e6cb-4399-af55-6413b5272676-c000.snappy.parquet',\n",
       " 'path_type': 'object',\n",
       " 'size_bytes': 478,\n",
       " 'type': 'added'}"
      ]
     },
     "metadata": {},
     "output_type": "display_data"
    },
    {
     "data": {
      "text/plain": [
       "{'path': 'test/part-00002-0a8400d2-a0eb-42be-b44c-2e9fbb8c09bf-c000.snappy.parquet',\n",
       " 'path_type': 'object',\n",
       " 'size_bytes': 478,\n",
       " 'type': 'added'}"
      ]
     },
     "metadata": {},
     "output_type": "display_data"
    },
    {
     "data": {
      "text/plain": [
       "{'path': 'test/part-00003-582412fe-4acb-49d0-a3c4-2c72245dc244-c000.snappy.parquet',\n",
       " 'path_type': 'object',\n",
       " 'size_bytes': 478,\n",
       " 'type': 'added'}"
      ]
     },
     "metadata": {},
     "output_type": "display_data"
    },
    {
     "data": {
      "text/plain": [
       "{'path': 'test/part-00004-3b29ee00-db21-4d96-8e6f-e07385bd0645-c000.snappy.parquet',\n",
       " 'path_type': 'object',\n",
       " 'size_bytes': 478,\n",
       " 'type': 'added'}"
      ]
     },
     "metadata": {},
     "output_type": "display_data"
    }
   ],
   "source": [
    "api_instance = branches_api.BranchesApi(api_client)\n",
    "\n",
    "api_response = api_instance.diff_branch(repo, branch)\n",
    "if api_response.pagination.results==0:\n",
    "    display(\"Nothing to commit\")\n",
    "else:\n",
    "    for r in api_response.results:\n",
    "        display(r)"
   ]
  },
  {
   "cell_type": "markdown",
   "id": "1bcdcb3c",
   "metadata": {},
   "source": [
    "### Commit the new file in `main`\n",
    "\n",
    "https://pydocs.lakefs.io/docs/CommitsApi.html#commit"
   ]
  },
  {
   "cell_type": "code",
   "execution_count": 24,
   "id": "0078cc8a",
   "metadata": {},
   "outputs": [
    {
     "data": {
      "text/plain": [
       "{'committer': 'docker',\n",
       " 'creation_date': 1680719777,\n",
       " 'id': 'f293978bb9ca8fdbe0b7282310c1ef87bd66cafa9f6ea7b7989dccb622962353',\n",
       " 'message': 'Everything Bagel - commit users data (original)',\n",
       " 'meta_range_id': '',\n",
       " 'metadata': {'foo': 'bar'},\n",
       " 'parents': ['45576cecd3aa193aeb2a9e62133226b4b9c48e03e44e9d9be3de62d3a0b6977f']}"
      ]
     },
     "execution_count": 24,
     "metadata": {},
     "output_type": "execute_result"
    }
   ],
   "source": [
    "from lakefs_client.api import commits_api\n",
    "from lakefs_client.model.commit import Commit\n",
    "from lakefs_client.model.commit_creation import CommitCreation\n",
    "\n",
    "api_instance = commits_api.CommitsApi(api_client)\n",
    "commit_creation = CommitCreation(\n",
    "    message=\"Everything Bagel - commit users data (original)\",\n",
    "    metadata={\n",
    "        \"foo\": \"bar\",\n",
    "    }\n",
    ") \n",
    "\n",
    "api_instance.commit(repo, branch, commit_creation)"
   ]
  },
  {
   "cell_type": "markdown",
   "id": "faf82895",
   "metadata": {},
   "source": [
    "### List branch status again - nothing returned means that there is nothing uncommitted"
   ]
  },
  {
   "cell_type": "code",
   "execution_count": 25,
   "id": "f758c8cb",
   "metadata": {},
   "outputs": [
    {
     "data": {
      "text/plain": [
       "'Nothing to commit'"
      ]
     },
     "metadata": {},
     "output_type": "display_data"
    }
   ],
   "source": [
    "api_instance = branches_api.BranchesApi(api_client)\n",
    "\n",
    "api_response = api_instance.diff_branch(repo, branch)\n",
    "if api_response.pagination.results==0:\n",
    "    display(\"Nothing to commit\")\n",
    "else:\n",
    "    for r in api_response.results:\n",
    "        display(r)"
   ]
  },
  {
   "cell_type": "markdown",
   "id": "a841e702",
   "metadata": {},
   "source": [
    "_Similar to a `git status` showing `Your branch is up to date with 'main'` / `nothing to commit, working tree clean`_"
   ]
  },
  {
   "cell_type": "markdown",
   "id": "dd3c5e94",
   "metadata": {},
   "source": [
    "## Create a branch\n",
    "\n",
    "https://pydocs.lakefs.io/docs/BranchesApi.html#create_branch\n",
    "\n",
    "**TODO** Show that there's no additional object created on object store (http://localhost:9001/buckets/example/browse login `minioadmin`/`minioadmin`)"
   ]
  },
  {
   "cell_type": "code",
   "execution_count": 26,
   "id": "0fa39ade",
   "metadata": {},
   "outputs": [],
   "source": [
    "branch='add_more_user_data'"
   ]
  },
  {
   "cell_type": "code",
   "execution_count": 27,
   "id": "fecd1769",
   "metadata": {},
   "outputs": [
    {
     "data": {
      "text/plain": [
       "'f293978bb9ca8fdbe0b7282310c1ef87bd66cafa9f6ea7b7989dccb622962353'"
      ]
     },
     "metadata": {},
     "output_type": "display_data"
    }
   ],
   "source": [
    "from lakefs_client.model.branch_creation import BranchCreation\n",
    "\n",
    "api_instance = branches_api.BranchesApi(api_client)\n",
    "branch_creation = BranchCreation(\n",
    "    name=branch,\n",
    "    source=\"main\",\n",
    ") \n",
    "\n",
    "api_response = api_instance.create_branch(repo, branch_creation)\n",
    "display(api_response)"
   ]
  },
  {
   "cell_type": "markdown",
   "id": "69e1a416",
   "metadata": {},
   "source": [
    "### List the current branches in the `example` repository\n",
    "\n",
    "https://pydocs.lakefs.io/docs/BranchesApi.html#list_branches"
   ]
  },
  {
   "cell_type": "code",
   "execution_count": 28,
   "id": "118732d6",
   "metadata": {},
   "outputs": [
    {
     "data": {
      "text/plain": [
       "'add_more_user_data'"
      ]
     },
     "metadata": {},
     "output_type": "display_data"
    },
    {
     "data": {
      "text/plain": [
       "'main'"
      ]
     },
     "metadata": {},
     "output_type": "display_data"
    }
   ],
   "source": [
    "for b in client.branches.list_branches(repo).results:\n",
    "    display(b.id)"
   ]
  },
  {
   "cell_type": "markdown",
   "id": "7b5926aa",
   "metadata": {},
   "source": [
    "## Confirm that you can see the same data on the new branch"
   ]
  },
  {
   "cell_type": "code",
   "execution_count": 29,
   "id": "684ff5e4",
   "metadata": {},
   "outputs": [],
   "source": [
    "xform_df = spark.read.parquet('s3a://'+repo+'/'+branch+'/demo/users')"
   ]
  },
  {
   "cell_type": "markdown",
   "id": "006ca0c3",
   "metadata": {},
   "source": [
    "How many rows of data?"
   ]
  },
  {
   "cell_type": "code",
   "execution_count": 30,
   "id": "0eeb9c43",
   "metadata": {},
   "outputs": [
    {
     "data": {
      "text/plain": [
       "1000"
      ]
     },
     "metadata": {},
     "output_type": "display_data"
    }
   ],
   "source": [
    "display(xform_df.count())"
   ]
  },
  {
   "cell_type": "markdown",
   "id": "be899d4b",
   "metadata": {},
   "source": [
    "What does the data look like?"
   ]
  },
  {
   "cell_type": "code",
   "execution_count": 31,
   "id": "10219381",
   "metadata": {},
   "outputs": [
    {
     "name": "stdout",
     "output_type": "stream",
     "text": [
      "-RECORD 0--------------------------------\n",
      " registration_dttm | 2016-02-03 07:55:29 \n",
      " id                | 1                   \n",
      " first_name        | Amanda              \n",
      " last_name         | Jordan              \n",
      " email             | ajordan0@com.com    \n",
      " gender            | Female              \n",
      " ip_address        | 1.197.201.2         \n",
      " cc                | 6759521864920116    \n",
      " country           | Indonesia           \n",
      " birthdate         | 3/8/1971            \n",
      " salary            | 49756.53            \n",
      " title             | Internal Auditor    \n",
      " comments          | 1E+02               \n",
      "only showing top 1 row\n",
      "\n"
     ]
    },
    {
     "data": {
      "text/plain": [
       "None"
      ]
     },
     "metadata": {},
     "output_type": "display_data"
    }
   ],
   "source": [
    "display(xform_df.show(n=1,vertical=True))"
   ]
  },
  {
   "cell_type": "markdown",
   "id": "1378435c",
   "metadata": {},
   "source": [
    "## Add some new data"
   ]
  },
  {
   "cell_type": "code",
   "execution_count": 32,
   "id": "fc637861",
   "metadata": {},
   "outputs": [],
   "source": [
    "# The sample parquet file is Apache 2.0 licensed so perhaps include it in the Everything Bagel distribution? \n",
    "url='https://github.com/Teradata/kylo/blob/master/samples/sample-data/parquet/userdata2.parquet?raw=true'\n",
    "spark.sparkContext.addFile(url)\n",
    "df = spark.read.parquet(\"file://\" + SparkFiles.get(\"userdata2.parquet\"))"
   ]
  },
  {
   "cell_type": "code",
   "execution_count": 33,
   "id": "3cabc77d",
   "metadata": {},
   "outputs": [
    {
     "name": "stdout",
     "output_type": "stream",
     "text": [
      "-RECORD 0---------------------------------\n",
      " registration_dttm | 2016-02-03 13:36:39  \n",
      " id                | 1                    \n",
      " first_name        | Donald               \n",
      " last_name         | Lewis                \n",
      " email             | dlewis0@clickbank... \n",
      " gender            | Male                 \n",
      " ip_address        | 102.22.124.20        \n",
      " cc                |                      \n",
      " country           | Indonesia            \n",
      " birthdate         | 7/9/1972             \n",
      " salary            | 140249.37            \n",
      " title             | Senior Financial ... \n",
      " comments          |                      \n",
      "only showing top 1 row\n",
      "\n"
     ]
    }
   ],
   "source": [
    "df.show(n=1,vertical=True)"
   ]
  },
  {
   "cell_type": "markdown",
   "id": "8d337977",
   "metadata": {},
   "source": [
    "## Write the data to the new branch and commit it"
   ]
  },
  {
   "cell_type": "code",
   "execution_count": 34,
   "id": "32412585",
   "metadata": {},
   "outputs": [],
   "source": [
    "df.write.format(\"delta\").mode('append').save('s3a://'+repo+'/'+branch+'/demo/users')"
   ]
  },
  {
   "cell_type": "markdown",
   "id": "eef8bc98",
   "metadata": {},
   "source": [
    "LakeFS sees that there is an uncommited change"
   ]
  },
  {
   "cell_type": "code",
   "execution_count": 35,
   "id": "054d469b",
   "metadata": {},
   "outputs": [
    {
     "data": {
      "text/plain": [
       "{'path': 'demo/users/_delta_log/00000000000000000001.json',\n",
       " 'path_type': 'object',\n",
       " 'size_bytes': 78729,\n",
       " 'type': 'added'}"
      ]
     },
     "metadata": {},
     "output_type": "display_data"
    },
    {
     "data": {
      "text/plain": [
       "{'path': 'demo/users/part-00000-490df90e-ce6b-4ceb-a977-3854f71f6a9e-c000.snappy.parquet',\n",
       " 'path_type': 'object',\n",
       " 'size_bytes': 78729,\n",
       " 'type': 'added'}"
      ]
     },
     "metadata": {},
     "output_type": "display_data"
    }
   ],
   "source": [
    "api_instance = branches_api.BranchesApi(api_client)\n",
    "\n",
    "api_response = api_instance.diff_branch(repo, branch)\n",
    "if api_response.pagination.results==0:\n",
    "    display(\"Nothing to commit\")\n",
    "else:\n",
    "    for r in api_response.results:\n",
    "        display(r)"
   ]
  },
  {
   "cell_type": "markdown",
   "id": "684a958b",
   "metadata": {},
   "source": [
    "Commit it"
   ]
  },
  {
   "cell_type": "code",
   "execution_count": 36,
   "id": "8e1ec372",
   "metadata": {},
   "outputs": [
    {
     "data": {
      "text/plain": [
       "{'committer': 'docker',\n",
       " 'creation_date': 1680719919,\n",
       " 'id': '0b96f0bcc8fd718ae0e35dabf870b128b870961c9b2819399cdaf84db724b473',\n",
       " 'message': 'Everything Bagel - add more user data',\n",
       " 'meta_range_id': '',\n",
       " 'metadata': {'foo': 'bar'},\n",
       " 'parents': ['f293978bb9ca8fdbe0b7282310c1ef87bd66cafa9f6ea7b7989dccb622962353']}"
      ]
     },
     "execution_count": 36,
     "metadata": {},
     "output_type": "execute_result"
    }
   ],
   "source": [
    "from lakefs_client.api import commits_api\n",
    "from lakefs_client.model.commit import Commit\n",
    "from lakefs_client.model.commit_creation import CommitCreation\n",
    "\n",
    "api_instance = commits_api.CommitsApi(api_client)\n",
    "commit_creation = CommitCreation(\n",
    "    message=\"Everything Bagel - add more user data\",\n",
    "    metadata={\n",
    "        \"foo\": \"bar\",\n",
    "    }\n",
    ") \n",
    "\n",
    "api_instance.commit(repo, branch, commit_creation)"
   ]
  },
  {
   "cell_type": "markdown",
   "id": "6247a98a",
   "metadata": {},
   "source": [
    "## Re-read `main` and `add_more_user_data` branches and count rows"
   ]
  },
  {
   "cell_type": "markdown",
   "id": "4639f82a",
   "metadata": {},
   "source": [
    "Original branch (`main`):"
   ]
  },
  {
   "cell_type": "code",
   "execution_count": 37,
   "id": "66b53af7",
   "metadata": {},
   "outputs": [
    {
     "data": {
      "text/plain": [
       "1000"
      ]
     },
     "metadata": {},
     "output_type": "display_data"
    }
   ],
   "source": [
    "main = spark.read.format(\"delta\").load('s3a://'+repo+'/main/demo/users')\n",
    "display(main.count())"
   ]
  },
  {
   "cell_type": "markdown",
   "id": "8e45d669",
   "metadata": {},
   "source": [
    "New branch (`add_more_user_data`):"
   ]
  },
  {
   "cell_type": "code",
   "execution_count": 38,
   "id": "bdefe7e8",
   "metadata": {},
   "outputs": [
    {
     "data": {
      "text/plain": [
       "2000"
      ]
     },
     "metadata": {},
     "output_type": "display_data"
    }
   ],
   "source": [
    "add_more_user_data = spark.read.format(\"delta\").load('s3a://'+repo+'/add_more_user_data/demo/users')\n",
    "display(add_more_user_data.count())"
   ]
  },
  {
   "cell_type": "markdown",
   "id": "f24fcd35",
   "metadata": {},
   "source": [
    "### Look at the view in LakeFS"
   ]
  },
  {
   "cell_type": "markdown",
   "id": "e127c37e",
   "metadata": {},
   "source": [
    "#### `main`"
   ]
  },
  {
   "cell_type": "code",
   "execution_count": 39,
   "id": "5f94ce60",
   "metadata": {},
   "outputs": [
    {
     "data": {
      "text/plain": [
       "[{'checksum': 'd41d8cd98f00b204e9800998ecf8427e',\n",
       "  'content_type': 'application/octet-stream',\n",
       "  'mtime': 1680719713,\n",
       "  'path': 'demo/users/_delta_log/',\n",
       "  'path_type': 'object',\n",
       "  'physical_address': 's3://example/data/gogk7p8mgess7772ikfg/cgmruo8mgess7772ikjg',\n",
       "  'size_bytes': 0},\n",
       " {'checksum': '3c713de5eb6183f5bef087822015ac6a',\n",
       "  'content_type': 'application/octet-stream',\n",
       "  'mtime': 1680719713,\n",
       "  'path': 'demo/users/_delta_log/00000000000000000000.json',\n",
       "  'path_type': 'object',\n",
       "  'physical_address': 's3://example/data/gogk7p8mgess7772ikfg/cgmruo8mgess7772ikkg',\n",
       "  'size_bytes': 2752},\n",
       " {'checksum': '6d85e83f3f67c0ca3230f39626186742',\n",
       "  'content_type': 'application/octet-stream',\n",
       "  'mtime': 1680719713,\n",
       "  'path': 'demo/users/part-00000-c9a0a559-f002-476a-bea1-a1f5d7ad8a5d-c000.snappy.parquet',\n",
       "  'path_type': 'object',\n",
       "  'physical_address': 's3://example/data/gogk7p8mgess7772ikfg/cgmruo8mgess7772ikk0',\n",
       "  'size_bytes': 78869},\n",
       " {'checksum': 'd41d8cd98f00b204e9800998ecf8427e',\n",
       "  'content_type': 'application/octet-stream',\n",
       "  'mtime': 1680719643,\n",
       "  'path': 'test/_delta_log/',\n",
       "  'path_type': 'object',\n",
       "  'physical_address': 's3://example/data/gogk7p8mgess7772ikfg/cgmru6omgess7772ikg0',\n",
       "  'size_bytes': 0},\n",
       " {'checksum': '7639dbd89efddfff51201e7b12005568',\n",
       "  'content_type': 'application/octet-stream',\n",
       "  'mtime': 1680719644,\n",
       "  'path': 'test/_delta_log/00000000000000000000.json',\n",
       "  'path_type': 'object',\n",
       "  'physical_address': 's3://example/data/gogk7p8mgess7772ikfg/cgmru70mgess7772ikj0',\n",
       "  'size_bytes': 2079},\n",
       " {'checksum': 'eae3689aa16b12e1862bdf8ea97bc15b',\n",
       "  'content_type': 'application/octet-stream',\n",
       "  'mtime': 1680719644,\n",
       "  'path': 'test/part-00000-2787b2f8-7a14-458e-92b3-f99aeb4da03f-c000.snappy.parquet',\n",
       "  'path_type': 'object',\n",
       "  'physical_address': 's3://example/data/gogk7p8mgess7772ikfg/cgmru70mgess7772ikgg',\n",
       "  'size_bytes': 478},\n",
       " {'checksum': '9117cab8c3faf38aa8dbdc27b75ba543',\n",
       "  'content_type': 'application/octet-stream',\n",
       "  'mtime': 1680719644,\n",
       "  'path': 'test/part-00001-ab43d66e-e6cb-4399-af55-6413b5272676-c000.snappy.parquet',\n",
       "  'path_type': 'object',\n",
       "  'physical_address': 's3://example/data/gogk7p8mgess7772ikfg/cgmru70mgess7772ikhg',\n",
       "  'size_bytes': 478},\n",
       " {'checksum': '80a73f700b7d42c3a1ba01b145a2a2c3',\n",
       "  'content_type': 'application/octet-stream',\n",
       "  'mtime': 1680719644,\n",
       "  'path': 'test/part-00002-0a8400d2-a0eb-42be-b44c-2e9fbb8c09bf-c000.snappy.parquet',\n",
       "  'path_type': 'object',\n",
       "  'physical_address': 's3://example/data/gogk7p8mgess7772ikfg/cgmru70mgess7772ikig',\n",
       "  'size_bytes': 478},\n",
       " {'checksum': '70143429e96911f6edb781a33a4ec273',\n",
       "  'content_type': 'application/octet-stream',\n",
       "  'mtime': 1680719644,\n",
       "  'path': 'test/part-00003-582412fe-4acb-49d0-a3c4-2c72245dc244-c000.snappy.parquet',\n",
       "  'path_type': 'object',\n",
       "  'physical_address': 's3://example/data/gogk7p8mgess7772ikfg/cgmru70mgess7772iki0',\n",
       "  'size_bytes': 478},\n",
       " {'checksum': '7faaa244478ff3618ba144cbdfae8e12',\n",
       "  'content_type': 'application/octet-stream',\n",
       "  'mtime': 1680719644,\n",
       "  'path': 'test/part-00004-3b29ee00-db21-4d96-8e6f-e07385bd0645-c000.snappy.parquet',\n",
       "  'path_type': 'object',\n",
       "  'physical_address': 's3://example/data/gogk7p8mgess7772ikfg/cgmru70mgess7772ikh0',\n",
       "  'size_bytes': 478}]"
      ]
     },
     "execution_count": 39,
     "metadata": {},
     "output_type": "execute_result"
    }
   ],
   "source": [
    "client.objects.list_objects(repo,'main').results"
   ]
  },
  {
   "cell_type": "markdown",
   "id": "0efa60e7",
   "metadata": {},
   "source": [
    "#### `add_more_user_data`"
   ]
  },
  {
   "cell_type": "code",
   "execution_count": 40,
   "id": "52bb4450",
   "metadata": {},
   "outputs": [
    {
     "data": {
      "text/plain": [
       "[{'checksum': 'd41d8cd98f00b204e9800998ecf8427e',\n",
       "  'content_type': 'application/octet-stream',\n",
       "  'mtime': 1680719713,\n",
       "  'path': 'demo/users/_delta_log/',\n",
       "  'path_type': 'object',\n",
       "  'physical_address': 's3://example/data/gogk7p8mgess7772ikfg/cgmruo8mgess7772ikjg',\n",
       "  'size_bytes': 0},\n",
       " {'checksum': '3c713de5eb6183f5bef087822015ac6a',\n",
       "  'content_type': 'application/octet-stream',\n",
       "  'mtime': 1680719713,\n",
       "  'path': 'demo/users/_delta_log/00000000000000000000.json',\n",
       "  'path_type': 'object',\n",
       "  'physical_address': 's3://example/data/gogk7p8mgess7772ikfg/cgmruo8mgess7772ikkg',\n",
       "  'size_bytes': 2752},\n",
       " {'checksum': 'c0d0b935dfb49dd402b53b043fd95c3c',\n",
       "  'content_type': 'application/octet-stream',\n",
       "  'mtime': 1680719909,\n",
       "  'path': 'demo/users/_delta_log/00000000000000000001.json',\n",
       "  'path_type': 'object',\n",
       "  'physical_address': 's3://example/data/gogk7p8mgess7772ikfg/cgms098mgess7772ikng',\n",
       "  'size_bytes': 1470},\n",
       " {'checksum': '94c1722429cd9e73c182c45936075fb3',\n",
       "  'content_type': 'application/octet-stream',\n",
       "  'mtime': 1680719909,\n",
       "  'path': 'demo/users/part-00000-490df90e-ce6b-4ceb-a977-3854f71f6a9e-c000.snappy.parquet',\n",
       "  'path_type': 'object',\n",
       "  'physical_address': 's3://example/data/gogk7p8mgess7772ikfg/cgms098mgess7772ikn0',\n",
       "  'size_bytes': 78729},\n",
       " {'checksum': '6d85e83f3f67c0ca3230f39626186742',\n",
       "  'content_type': 'application/octet-stream',\n",
       "  'mtime': 1680719713,\n",
       "  'path': 'demo/users/part-00000-c9a0a559-f002-476a-bea1-a1f5d7ad8a5d-c000.snappy.parquet',\n",
       "  'path_type': 'object',\n",
       "  'physical_address': 's3://example/data/gogk7p8mgess7772ikfg/cgmruo8mgess7772ikk0',\n",
       "  'size_bytes': 78869},\n",
       " {'checksum': 'd41d8cd98f00b204e9800998ecf8427e',\n",
       "  'content_type': 'application/octet-stream',\n",
       "  'mtime': 1680719643,\n",
       "  'path': 'test/_delta_log/',\n",
       "  'path_type': 'object',\n",
       "  'physical_address': 's3://example/data/gogk7p8mgess7772ikfg/cgmru6omgess7772ikg0',\n",
       "  'size_bytes': 0},\n",
       " {'checksum': '7639dbd89efddfff51201e7b12005568',\n",
       "  'content_type': 'application/octet-stream',\n",
       "  'mtime': 1680719644,\n",
       "  'path': 'test/_delta_log/00000000000000000000.json',\n",
       "  'path_type': 'object',\n",
       "  'physical_address': 's3://example/data/gogk7p8mgess7772ikfg/cgmru70mgess7772ikj0',\n",
       "  'size_bytes': 2079},\n",
       " {'checksum': 'eae3689aa16b12e1862bdf8ea97bc15b',\n",
       "  'content_type': 'application/octet-stream',\n",
       "  'mtime': 1680719644,\n",
       "  'path': 'test/part-00000-2787b2f8-7a14-458e-92b3-f99aeb4da03f-c000.snappy.parquet',\n",
       "  'path_type': 'object',\n",
       "  'physical_address': 's3://example/data/gogk7p8mgess7772ikfg/cgmru70mgess7772ikgg',\n",
       "  'size_bytes': 478},\n",
       " {'checksum': '9117cab8c3faf38aa8dbdc27b75ba543',\n",
       "  'content_type': 'application/octet-stream',\n",
       "  'mtime': 1680719644,\n",
       "  'path': 'test/part-00001-ab43d66e-e6cb-4399-af55-6413b5272676-c000.snappy.parquet',\n",
       "  'path_type': 'object',\n",
       "  'physical_address': 's3://example/data/gogk7p8mgess7772ikfg/cgmru70mgess7772ikhg',\n",
       "  'size_bytes': 478},\n",
       " {'checksum': '80a73f700b7d42c3a1ba01b145a2a2c3',\n",
       "  'content_type': 'application/octet-stream',\n",
       "  'mtime': 1680719644,\n",
       "  'path': 'test/part-00002-0a8400d2-a0eb-42be-b44c-2e9fbb8c09bf-c000.snappy.parquet',\n",
       "  'path_type': 'object',\n",
       "  'physical_address': 's3://example/data/gogk7p8mgess7772ikfg/cgmru70mgess7772ikig',\n",
       "  'size_bytes': 478},\n",
       " {'checksum': '70143429e96911f6edb781a33a4ec273',\n",
       "  'content_type': 'application/octet-stream',\n",
       "  'mtime': 1680719644,\n",
       "  'path': 'test/part-00003-582412fe-4acb-49d0-a3c4-2c72245dc244-c000.snappy.parquet',\n",
       "  'path_type': 'object',\n",
       "  'physical_address': 's3://example/data/gogk7p8mgess7772ikfg/cgmru70mgess7772iki0',\n",
       "  'size_bytes': 478},\n",
       " {'checksum': '7faaa244478ff3618ba144cbdfae8e12',\n",
       "  'content_type': 'application/octet-stream',\n",
       "  'mtime': 1680719644,\n",
       "  'path': 'test/part-00004-3b29ee00-db21-4d96-8e6f-e07385bd0645-c000.snappy.parquet',\n",
       "  'path_type': 'object',\n",
       "  'physical_address': 's3://example/data/gogk7p8mgess7772ikfg/cgmru70mgess7772ikh0',\n",
       "  'size_bytes': 478}]"
      ]
     },
     "execution_count": 40,
     "metadata": {},
     "output_type": "execute_result"
    }
   ],
   "source": [
    "client.objects.list_objects(repo,'add_more_user_data').results"
   ]
  },
  {
   "cell_type": "markdown",
   "id": "6b6049a1",
   "metadata": {},
   "source": [
    "## Create a new branch and test removing some data"
   ]
  },
  {
   "cell_type": "code",
   "execution_count": null,
   "id": "be25ec9f",
   "metadata": {},
   "outputs": [],
   "source": [
    "branch='remove_pii'"
   ]
  },
  {
   "cell_type": "code",
   "execution_count": null,
   "id": "a2eb618e",
   "metadata": {},
   "outputs": [],
   "source": [
    "from lakefs_client.model.branch_creation import BranchCreation\n",
    "\n",
    "api_instance = branches_api.BranchesApi(api_client)\n",
    "branch_creation = BranchCreation(\n",
    "    name=branch,\n",
    "    source=\"main\",\n",
    ") \n",
    "\n",
    "api_response = api_instance.create_branch(repo, branch_creation)\n",
    "display(api_response)"
   ]
  },
  {
   "cell_type": "markdown",
   "id": "b63156cd",
   "metadata": {},
   "source": [
    "### List the current branches in the `example` repository\n",
    "\n",
    "https://pydocs.lakefs.io/docs/BranchesApi.html#list_branches"
   ]
  },
  {
   "cell_type": "code",
   "execution_count": null,
   "id": "3986834b",
   "metadata": {},
   "outputs": [],
   "source": [
    "for b in client.branches.list_branches(repo).results:\n",
    "    display(b.id)"
   ]
  },
  {
   "cell_type": "markdown",
   "id": "f335d022",
   "metadata": {},
   "source": [
    "### Confirm that you can see the same data on the new branch"
   ]
  },
  {
   "cell_type": "code",
   "execution_count": null,
   "id": "d4ecf052",
   "metadata": {},
   "outputs": [],
   "source": [
    "xform_df = spark.read.parquet('s3a://'+repo+'/'+branch+'/demo/users')"
   ]
  },
  {
   "cell_type": "markdown",
   "id": "b3d065d2",
   "metadata": {},
   "source": [
    "How many rows of data? \n",
    "\n",
    "_Note that this shows 1000 per `main`, and not 2000 per the `add_more_user_data` branch above since this has not been merged to `main`_"
   ]
  },
  {
   "cell_type": "code",
   "execution_count": null,
   "id": "ed9e8b58",
   "metadata": {},
   "outputs": [],
   "source": [
    "display(xform_df.count())"
   ]
  },
  {
   "cell_type": "markdown",
   "id": "eeace3b0",
   "metadata": {},
   "source": [
    "If you are reading and write a file from the same place, you need to use `.cache()` otherwise the write will fail with an error like this: \n",
    "\n",
    "```\n",
    "Caused by: java.io.FileNotFoundException: \n",
    "No such file or directory: s3a://example/remove_pii/demo/users/part-00000-7a0bbe79-a3e2-4355-984e-bd8b950a4e0c-c000.snappy.parquet\n",
    "```\n",
    "\n",
    "[solution src](https://stackoverflow.com/a/65330116/350613)"
   ]
  },
  {
   "cell_type": "markdown",
   "id": "cf25872e",
   "metadata": {},
   "source": [
    "### Transform the data"
   ]
  },
  {
   "cell_type": "code",
   "execution_count": null,
   "id": "e95aa00c",
   "metadata": {},
   "outputs": [],
   "source": [
    "df2=xform_df.drop('ip_address','birthdate','salary','email').cache()\n",
    "# You need to do something to access the DF otherwise the `cache()` won't have any effect\n",
    "df2.show(n=1,vertical=True)"
   ]
  },
  {
   "cell_type": "markdown",
   "id": "ff402ece",
   "metadata": {},
   "source": [
    "### Write data back to the branch"
   ]
  },
  {
   "cell_type": "code",
   "execution_count": null,
   "id": "4a7252b7",
   "metadata": {},
   "outputs": [],
   "source": [
    "df2.write.mode('overwrite').parquet('s3a://'+repo+'/'+branch+'/demo/users')"
   ]
  },
  {
   "cell_type": "markdown",
   "id": "f8e6baf6",
   "metadata": {},
   "source": [
    "### Commit changes"
   ]
  },
  {
   "cell_type": "code",
   "execution_count": null,
   "id": "8f2347aa",
   "metadata": {},
   "outputs": [],
   "source": [
    "api_instance = commits_api.CommitsApi(api_client)\n",
    "commit_creation = CommitCreation(\n",
    "    message=\"Remove PII\",\n",
    ") \n",
    "\n",
    "api_instance.commit(repo, branch, commit_creation)"
   ]
  },
  {
   "cell_type": "markdown",
   "id": "4f2b8319",
   "metadata": {},
   "source": [
    "## Re-read all branches and inspect data for isolation"
   ]
  },
  {
   "cell_type": "markdown",
   "id": "d16909b0",
   "metadata": {},
   "source": [
    "Original branch (`main`):"
   ]
  },
  {
   "cell_type": "code",
   "execution_count": null,
   "id": "f0eb5364",
   "metadata": {},
   "outputs": [],
   "source": [
    "main = spark.read.parquet('s3a://'+repo+'/main/demo/users')\n",
    "display(main.count())\n",
    "main.show(n=1,vertical=True)"
   ]
  },
  {
   "cell_type": "markdown",
   "id": "51dc188c",
   "metadata": {},
   "source": [
    "New branch (`add_more_user_data`):"
   ]
  },
  {
   "cell_type": "code",
   "execution_count": null,
   "id": "e1da3fe8",
   "metadata": {},
   "outputs": [],
   "source": [
    "add_more_user_data = spark.read.parquet('s3a://'+repo+'/add_more_user_data/demo/users')\n",
    "display(add_more_user_data.count())\n",
    "add_more_user_data.show(n=1,vertical=True)"
   ]
  },
  {
   "cell_type": "markdown",
   "id": "69be8072",
   "metadata": {},
   "source": [
    "New branch (`remove_pii`):"
   ]
  },
  {
   "cell_type": "code",
   "execution_count": null,
   "id": "e564292b",
   "metadata": {},
   "outputs": [],
   "source": [
    "remove_pii = spark.read.parquet('s3a://'+repo+'/remove_pii/demo/users')\n",
    "display(remove_pii.count())\n",
    "remove_pii.show(n=1,vertical=True)"
   ]
  },
  {
   "cell_type": "markdown",
   "id": "d7e9cf92",
   "metadata": {},
   "source": [
    "### Look at the view in LakeFS"
   ]
  },
  {
   "cell_type": "markdown",
   "id": "9545ec95",
   "metadata": {},
   "source": [
    "#### `main`"
   ]
  },
  {
   "cell_type": "code",
   "execution_count": null,
   "id": "a5042d5c",
   "metadata": {},
   "outputs": [],
   "source": [
    "client.objects.list_objects(repo,'main').results"
   ]
  },
  {
   "cell_type": "markdown",
   "id": "ae40d620",
   "metadata": {},
   "source": [
    "#### `add_more_user_data`"
   ]
  },
  {
   "cell_type": "code",
   "execution_count": null,
   "id": "9f18511c",
   "metadata": {},
   "outputs": [],
   "source": [
    "client.objects.list_objects(repo,'add_more_user_data').results"
   ]
  },
  {
   "cell_type": "markdown",
   "id": "a603d5fb",
   "metadata": {},
   "source": [
    "#### `remove_pii`"
   ]
  },
  {
   "cell_type": "code",
   "execution_count": null,
   "id": "3b8770f5",
   "metadata": {},
   "outputs": [],
   "source": [
    "client.objects.list_objects(repo,'remove_pii').results"
   ]
  },
  {
   "cell_type": "markdown",
   "id": "ed727c06",
   "metadata": {},
   "source": [
    "## Merge `remove_pii` into `main`"
   ]
  },
  {
   "cell_type": "code",
   "execution_count": null,
   "id": "41a53f67",
   "metadata": {},
   "outputs": [],
   "source": [
    "client.refs.merge_into_branch(repository=repo, source_ref='remove_pii', destination_branch='main')"
   ]
  },
  {
   "cell_type": "markdown",
   "id": "a254ff43",
   "metadata": {},
   "source": [
    "Original branch (`main`):"
   ]
  },
  {
   "cell_type": "code",
   "execution_count": null,
   "id": "1b5d7daa",
   "metadata": {},
   "outputs": [],
   "source": [
    "main = spark.read.parquet('s3a://'+repo+'/main/demo/users')\n",
    "display(main.count())\n",
    "main.show(n=1,vertical=True)"
   ]
  }
 ],
 "metadata": {
  "kernelspec": {
   "display_name": "Python 3 (ipykernel)",
   "language": "python",
   "name": "python3"
  },
  "language_info": {
   "codemirror_mode": {
    "name": "ipython",
    "version": 3
   },
   "file_extension": ".py",
   "mimetype": "text/x-python",
   "name": "python",
   "nbconvert_exporter": "python",
   "pygments_lexer": "ipython3",
   "version": "3.9.7"
  }
 },
 "nbformat": 4,
 "nbformat_minor": 5
}
